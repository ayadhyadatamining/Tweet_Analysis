{
 "cells": [
  {
   "cell_type": "code",
   "execution_count": 1,
   "metadata": {
    "colab": {
     "base_uri": "https://localhost:8080/",
     "height": 73,
     "resources": {
      "http://localhost:8080/nbextensions/google.colab/files.js": {
       "data": "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",
       "headers": [
        [
         "content-type",
         "application/javascript"
        ]
       ],
       "ok": true,
       "status": 200,
       "status_text": ""
      }
     }
    },
    "id": "6Hqg3QtTM4_M",
    "outputId": "f3e3a37b-6b76-461a-ecde-4c794acce08c"
   },
   "outputs": [
    {
     "data": {
      "text/html": [
       "\n",
       "     <input type=\"file\" id=\"files-c4bf02e0-eaaa-4b16-bb85-0cfa433c58d9\" name=\"files[]\" multiple disabled\n",
       "        style=\"border:none\" />\n",
       "     <output id=\"result-c4bf02e0-eaaa-4b16-bb85-0cfa433c58d9\">\n",
       "      Upload widget is only available when the cell has been executed in the\n",
       "      current browser session. Please rerun this cell to enable.\n",
       "      </output>\n",
       "      <script src=\"/nbextensions/google.colab/files.js\"></script> "
      ],
      "text/plain": [
       "<IPython.core.display.HTML object>"
      ]
     },
     "metadata": {},
     "output_type": "display_data"
    },
    {
     "name": "stdout",
     "output_type": "stream",
     "text": [
      "Saving Corona_NLP_test.csv to Corona_NLP_test.csv\n"
     ]
    }
   ],
   "source": [
    "from google.colab import files\n",
    "a = files.upload()"
   ]
  },
  {
   "cell_type": "markdown",
   "metadata": {
    "id": "tTa58c8xNYkl"
   },
   "source": [
    "# Import Necessary library"
   ]
  },
  {
   "cell_type": "code",
   "execution_count": 17,
   "metadata": {
    "id": "qhrOVIrhNFux"
   },
   "outputs": [],
   "source": [
    "import pandas as pd\n",
    "import numpy as np\n",
    "import seaborn as sns\n",
    "from sklearn.preprocessing import LabelEncoder\n",
    "import nltk\n",
    "import re\n",
    "from nltk.corpus import stopwords\n",
    "from nltk.stem.porter import PorterStemmer\n",
    "import tensorflow\n",
    "from tensorflow import keras\n",
    "from keras.preprocessing.text import one_hot\n",
    "from keras.preprocessing.sequence import pad_sequences\n",
    "from keras.models import Sequential\n",
    "from keras.layers import Dense,Embedding,Dropout,LSTM\n",
    "from sklearn.model_selection import train_test_split\n",
    "from sklearn import metrics\n",
    "import matplotlib.pyplot as plt\n",
    "from keras.utils.vis_utils import plot_model"
   ]
  },
  {
   "cell_type": "code",
   "execution_count": 3,
   "metadata": {
    "colab": {
     "base_uri": "https://localhost:8080/",
     "height": 206
    },
    "id": "bWRHFWYCPpqI",
    "outputId": "c6c79dad-2a46-4523-9d98-b375793cc4ad"
   },
   "outputs": [
    {
     "data": {
      "text/html": [
       "\n",
       "  <div id=\"df-086118a5-9f84-4f51-9d96-f0feae191dae\">\n",
       "    <div class=\"colab-df-container\">\n",
       "      <div>\n",
       "<style scoped>\n",
       "    .dataframe tbody tr th:only-of-type {\n",
       "        vertical-align: middle;\n",
       "    }\n",
       "\n",
       "    .dataframe tbody tr th {\n",
       "        vertical-align: top;\n",
       "    }\n",
       "\n",
       "    .dataframe thead th {\n",
       "        text-align: right;\n",
       "    }\n",
       "</style>\n",
       "<table border=\"1\" class=\"dataframe\">\n",
       "  <thead>\n",
       "    <tr style=\"text-align: right;\">\n",
       "      <th></th>\n",
       "      <th>UserName</th>\n",
       "      <th>ScreenName</th>\n",
       "      <th>TweetAt</th>\n",
       "      <th>OriginalTweet</th>\n",
       "      <th>Sentiment</th>\n",
       "    </tr>\n",
       "  </thead>\n",
       "  <tbody>\n",
       "    <tr>\n",
       "      <th>0</th>\n",
       "      <td>1</td>\n",
       "      <td>44953</td>\n",
       "      <td>02-03-2020</td>\n",
       "      <td>TRENDING: New Yorkers encounter empty supermar...</td>\n",
       "      <td>0</td>\n",
       "    </tr>\n",
       "    <tr>\n",
       "      <th>1</th>\n",
       "      <td>2</td>\n",
       "      <td>44954</td>\n",
       "      <td>02-03-2020</td>\n",
       "      <td>When I couldn't find hand sanitizer at Fred Me...</td>\n",
       "      <td>4</td>\n",
       "    </tr>\n",
       "    <tr>\n",
       "      <th>2</th>\n",
       "      <td>3</td>\n",
       "      <td>44955</td>\n",
       "      <td>02-03-2020</td>\n",
       "      <td>Find out how you can protect yourself and love...</td>\n",
       "      <td>1</td>\n",
       "    </tr>\n",
       "    <tr>\n",
       "      <th>3</th>\n",
       "      <td>4</td>\n",
       "      <td>44956</td>\n",
       "      <td>02-03-2020</td>\n",
       "      <td>#Panic buying hits #NewYork City as anxious sh...</td>\n",
       "      <td>2</td>\n",
       "    </tr>\n",
       "    <tr>\n",
       "      <th>4</th>\n",
       "      <td>5</td>\n",
       "      <td>44957</td>\n",
       "      <td>03-03-2020</td>\n",
       "      <td>#toiletpaper #dunnypaper #coronavirus #coronav...</td>\n",
       "      <td>3</td>\n",
       "    </tr>\n",
       "  </tbody>\n",
       "</table>\n",
       "</div>\n",
       "      <button class=\"colab-df-convert\" onclick=\"convertToInteractive('df-086118a5-9f84-4f51-9d96-f0feae191dae')\"\n",
       "              title=\"Convert this dataframe to an interactive table.\"\n",
       "              style=\"display:none;\">\n",
       "        \n",
       "  <svg xmlns=\"http://www.w3.org/2000/svg\" height=\"24px\"viewBox=\"0 0 24 24\"\n",
       "       width=\"24px\">\n",
       "    <path d=\"M0 0h24v24H0V0z\" fill=\"none\"/>\n",
       "    <path d=\"M18.56 5.44l.94 2.06.94-2.06 2.06-.94-2.06-.94-.94-2.06-.94 2.06-2.06.94zm-11 1L8.5 8.5l.94-2.06 2.06-.94-2.06-.94L8.5 2.5l-.94 2.06-2.06.94zm10 10l.94 2.06.94-2.06 2.06-.94-2.06-.94-.94-2.06-.94 2.06-2.06.94z\"/><path d=\"M17.41 7.96l-1.37-1.37c-.4-.4-.92-.59-1.43-.59-.52 0-1.04.2-1.43.59L10.3 9.45l-7.72 7.72c-.78.78-.78 2.05 0 2.83L4 21.41c.39.39.9.59 1.41.59.51 0 1.02-.2 1.41-.59l7.78-7.78 2.81-2.81c.8-.78.8-2.07 0-2.86zM5.41 20L4 18.59l7.72-7.72 1.47 1.35L5.41 20z\"/>\n",
       "  </svg>\n",
       "      </button>\n",
       "      \n",
       "  <style>\n",
       "    .colab-df-container {\n",
       "      display:flex;\n",
       "      flex-wrap:wrap;\n",
       "      gap: 12px;\n",
       "    }\n",
       "\n",
       "    .colab-df-convert {\n",
       "      background-color: #E8F0FE;\n",
       "      border: none;\n",
       "      border-radius: 50%;\n",
       "      cursor: pointer;\n",
       "      display: none;\n",
       "      fill: #1967D2;\n",
       "      height: 32px;\n",
       "      padding: 0 0 0 0;\n",
       "      width: 32px;\n",
       "    }\n",
       "\n",
       "    .colab-df-convert:hover {\n",
       "      background-color: #E2EBFA;\n",
       "      box-shadow: 0px 1px 2px rgba(60, 64, 67, 0.3), 0px 1px 3px 1px rgba(60, 64, 67, 0.15);\n",
       "      fill: #174EA6;\n",
       "    }\n",
       "\n",
       "    [theme=dark] .colab-df-convert {\n",
       "      background-color: #3B4455;\n",
       "      fill: #D2E3FC;\n",
       "    }\n",
       "\n",
       "    [theme=dark] .colab-df-convert:hover {\n",
       "      background-color: #434B5C;\n",
       "      box-shadow: 0px 1px 3px 1px rgba(0, 0, 0, 0.15);\n",
       "      filter: drop-shadow(0px 1px 2px rgba(0, 0, 0, 0.3));\n",
       "      fill: #FFFFFF;\n",
       "    }\n",
       "  </style>\n",
       "\n",
       "      <script>\n",
       "        const buttonEl =\n",
       "          document.querySelector('#df-086118a5-9f84-4f51-9d96-f0feae191dae button.colab-df-convert');\n",
       "        buttonEl.style.display =\n",
       "          google.colab.kernel.accessAllowed ? 'block' : 'none';\n",
       "\n",
       "        async function convertToInteractive(key) {\n",
       "          const element = document.querySelector('#df-086118a5-9f84-4f51-9d96-f0feae191dae');\n",
       "          const dataTable =\n",
       "            await google.colab.kernel.invokeFunction('convertToInteractive',\n",
       "                                                     [key], {});\n",
       "          if (!dataTable) return;\n",
       "\n",
       "          const docLinkHtml = 'Like what you see? Visit the ' +\n",
       "            '<a target=\"_blank\" href=https://colab.research.google.com/notebooks/data_table.ipynb>data table notebook</a>'\n",
       "            + ' to learn more about interactive tables.';\n",
       "          element.innerHTML = '';\n",
       "          dataTable['output_type'] = 'display_data';\n",
       "          await google.colab.output.renderOutput(dataTable, element);\n",
       "          const docLink = document.createElement('div');\n",
       "          docLink.innerHTML = docLinkHtml;\n",
       "          element.appendChild(docLink);\n",
       "        }\n",
       "      </script>\n",
       "    </div>\n",
       "  </div>\n",
       "  "
      ],
      "text/plain": [
       "   UserName  ScreenName     TweetAt  \\\n",
       "0         1       44953  02-03-2020   \n",
       "1         2       44954  02-03-2020   \n",
       "2         3       44955  02-03-2020   \n",
       "3         4       44956  02-03-2020   \n",
       "4         5       44957  03-03-2020   \n",
       "\n",
       "                                       OriginalTweet  Sentiment  \n",
       "0  TRENDING: New Yorkers encounter empty supermar...          0  \n",
       "1  When I couldn't find hand sanitizer at Fred Me...          4  \n",
       "2  Find out how you can protect yourself and love...          1  \n",
       "3  #Panic buying hits #NewYork City as anxious sh...          2  \n",
       "4  #toiletpaper #dunnypaper #coronavirus #coronav...          3  "
      ]
     },
     "execution_count": 3,
     "metadata": {},
     "output_type": "execute_result"
    }
   ],
   "source": [
    "data = pd.read_csv(\"Corona_NLP_test.csv\")\n",
    "data[\"Sentiment\"] = LabelEncoder().fit_transform(data['Sentiment'])\n",
    "data = data.dropna(axis=1)\n",
    "data.head()"
   ]
  },
  {
   "cell_type": "code",
   "execution_count": 4,
   "metadata": {
    "colab": {
     "base_uri": "https://localhost:8080/",
     "height": 53
    },
    "id": "fA3cCTdWQkKd",
    "outputId": "bd6b2edf-5177-4a89-e210-1b2dbfeaf35e"
   },
   "outputs": [
    {
     "data": {
      "application/vnd.google.colaboratory.intrinsic+json": {
       "type": "string"
      },
      "text/plain": [
       "'TRENDING: New Yorkers encounter empty supermarket shelves (pictured, Wegmans in Brooklyn), sold-out online grocers (FoodKick, MaxDelivery) as #coronavirus-fearing shoppers stock up https://t.co/Gr76pcrLWh https://t.co/ivMKMsqdT1'"
      ]
     },
     "execution_count": 4,
     "metadata": {},
     "output_type": "execute_result"
    }
   ],
   "source": [
    "data[\"OriginalTweet\"][0]"
   ]
  },
  {
   "cell_type": "code",
   "execution_count": 5,
   "metadata": {
    "colab": {
     "base_uri": "https://localhost:8080/"
    },
    "id": "b7koeGiNSLhr",
    "outputId": "c2456e32-2b6a-4e3d-9ed9-50de743d0f7b"
   },
   "outputs": [
    {
     "data": {
      "text/plain": [
       "UserName         0\n",
       "ScreenName       0\n",
       "TweetAt          0\n",
       "OriginalTweet    0\n",
       "Sentiment        0\n",
       "dtype: int64"
      ]
     },
     "execution_count": 5,
     "metadata": {},
     "output_type": "execute_result"
    }
   ],
   "source": [
    "data.isnull().sum()"
   ]
  },
  {
   "cell_type": "code",
   "execution_count": 6,
   "metadata": {
    "colab": {
     "base_uri": "https://localhost:8080/"
    },
    "id": "SJWpMqFPQ_IM",
    "outputId": "fc981f40-3c64-4da2-c94d-04ecd476b361"
   },
   "outputs": [
    {
     "data": {
      "text/plain": [
       "(3798, 5)"
      ]
     },
     "execution_count": 6,
     "metadata": {},
     "output_type": "execute_result"
    }
   ],
   "source": [
    "data.shape"
   ]
  },
  {
   "cell_type": "code",
   "execution_count": 7,
   "metadata": {
    "colab": {
     "base_uri": "https://localhost:8080/"
    },
    "id": "1HQiYx35Sa7k",
    "outputId": "7bb3f10d-3c97-4fe2-8bc6-21727ade211b"
   },
   "outputs": [
    {
     "name": "stdout",
     "output_type": "stream",
     "text": [
      "<class 'pandas.core.frame.DataFrame'>\n",
      "RangeIndex: 3798 entries, 0 to 3797\n",
      "Data columns (total 5 columns):\n",
      " #   Column         Non-Null Count  Dtype \n",
      "---  ------         --------------  ----- \n",
      " 0   UserName       3798 non-null   int64 \n",
      " 1   ScreenName     3798 non-null   int64 \n",
      " 2   TweetAt        3798 non-null   object\n",
      " 3   OriginalTweet  3798 non-null   object\n",
      " 4   Sentiment      3798 non-null   int64 \n",
      "dtypes: int64(3), object(2)\n",
      "memory usage: 148.5+ KB\n"
     ]
    }
   ],
   "source": [
    "data.info()"
   ]
  },
  {
   "cell_type": "code",
   "execution_count": 8,
   "metadata": {
    "colab": {
     "base_uri": "https://localhost:8080/"
    },
    "id": "ICUTGJJ2S1Pn",
    "outputId": "9230a7d1-6d51-4f1e-f46a-39098df25300"
   },
   "outputs": [
    {
     "data": {
      "text/plain": [
       "array([[0],\n",
       "       [4],\n",
       "       [1],\n",
       "       ...,\n",
       "       [3],\n",
       "       [0],\n",
       "       [1]])"
      ]
     },
     "execution_count": 8,
     "metadata": {},
     "output_type": "execute_result"
    }
   ],
   "source": [
    "x = data.drop('Sentiment',axis=1)\n",
    "y = data['Sentiment'].values\n",
    "y=y.reshape(-1,1)\n",
    "y"
   ]
  },
  {
   "cell_type": "code",
   "execution_count": 9,
   "metadata": {
    "colab": {
     "base_uri": "https://localhost:8080/"
    },
    "id": "Hw3_FnyGXu9v",
    "outputId": "9b4f6763-4ff1-4ad8-a787-614726bc37fa"
   },
   "outputs": [
    {
     "name": "stdout",
     "output_type": "stream",
     "text": [
      "[nltk_data] Downloading package stopwords to /root/nltk_data...\n",
      "[nltk_data]   Unzipping corpora/stopwords.zip.\n"
     ]
    }
   ],
   "source": [
    "nltk.download('stopwords')\n",
    "message = x.copy()\n",
    "message.reset_index(inplace=True)"
   ]
  },
  {
   "cell_type": "code",
   "execution_count": 10,
   "metadata": {
    "colab": {
     "base_uri": "https://localhost:8080/",
     "height": 53
    },
    "id": "GH59zxn0a3cv",
    "outputId": "60e7141b-0bde-49bb-bde8-cc5312f5b9ed"
   },
   "outputs": [
    {
     "data": {
      "application/vnd.google.colaboratory.intrinsic+json": {
       "type": "string"
      },
      "text/plain": [
       "'trend new yorker encount empti supermarket shelv pictur wegman brooklyn sold onlin grocer foodkick maxdeliveri coronaviru fear shopper stock http co gr pcrlwh http co ivmkmsqdt'"
      ]
     },
     "execution_count": 10,
     "metadata": {},
     "output_type": "execute_result"
    }
   ],
   "source": [
    "ps = PorterStemmer()\n",
    "corpus=[]\n",
    "for i in range(len(x)):\n",
    "  review=re.sub('[^a-zA-Z]',' ',message['OriginalTweet'][i])\n",
    "  review=review.lower()\n",
    "  review=review.split()\n",
    "  review=[ps.stem(word) for word in review if not word in stopwords.words('english')]\n",
    "  review=' '.join(review)\n",
    "  corpus.append(review)\n",
    "corpus[0]"
   ]
  },
  {
   "cell_type": "code",
   "execution_count": 11,
   "metadata": {
    "colab": {
     "base_uri": "https://localhost:8080/"
    },
    "id": "8-8YLfK6b2rx",
    "outputId": "45173705-e0eb-43eb-9453-e72725812c6e"
   },
   "outputs": [
    {
     "data": {
      "text/plain": [
       "[36785,\n",
       " 196,\n",
       " 9065,\n",
       " 17158,\n",
       " 3426,\n",
       " 16414,\n",
       " 9575,\n",
       " 18486,\n",
       " 1331,\n",
       " 33190,\n",
       " 6945,\n",
       " 1097,\n",
       " 29901,\n",
       " 38920,\n",
       " 15359,\n",
       " 23032,\n",
       " 43377,\n",
       " 38317,\n",
       " 2095,\n",
       " 45340,\n",
       " 13478,\n",
       " 26521,\n",
       " 43304,\n",
       " 45340,\n",
       " 13478,\n",
       " 8723]"
      ]
     },
     "execution_count": 11,
     "metadata": {},
     "output_type": "execute_result"
    }
   ],
   "source": [
    "voc_size = 50000\n",
    "one_hot_r = [one_hot(word,voc_size) for word in corpus]\n",
    "\n",
    "one_hot_r[0]"
   ]
  },
  {
   "cell_type": "code",
   "execution_count": 13,
   "metadata": {
    "id": "wmtQkunQ9prh"
   },
   "outputs": [],
   "source": [
    "sent_length = 30\n",
    "input = pad_sequences(one_hot_r,padding='pre',maxlen=sent_length)"
   ]
  },
  {
   "cell_type": "code",
   "execution_count": 15,
   "metadata": {
    "id": "lzoPDOpk-SIY"
   },
   "outputs": [],
   "source": [
    "final_input = np.array(input)\n",
    "final_output = np.array(y)"
   ]
  },
  {
   "cell_type": "code",
   "execution_count": 19,
   "metadata": {
    "colab": {
     "base_uri": "https://localhost:8080/",
     "height": 564
    },
    "id": "82xzf7Ae-phc",
    "outputId": "9940fd7f-678b-4345-d886-bafa92a70886"
   },
   "outputs": [
    {
     "data": {
      "image/png": "[encoded data removed]",
      "text/plain": [
       "<IPython.core.display.Image object>"
      ]
     },
     "execution_count": 19,
     "metadata": {},
     "output_type": "execute_result"
    }
   ],
   "source": [
    "dim = 40\n",
    "model = Sequential()\n",
    "model.add(Embedding(voc_size,dim,input_length=sent_length))\n",
    "model.add(Dropout(0.3))\n",
    "model.add(LSTM(80))\n",
    "model.add(Dropout(0.3))\n",
    "model.add(Dense(1,activation='softmax'))\n",
    "model.compile(optimizer='adam',loss='categorical_crossentropy',metrics=['accuracy'])\n",
    "plot_model(model)"
   ]
  },
  {
   "cell_type": "code",
   "execution_count": 20,
   "metadata": {
    "id": "Au0pncOGCti9"
   },
   "outputs": [],
   "source": [
    "from sklearn.model_selection import train_test_split"
   ]
  },
  {
   "cell_type": "code",
   "execution_count": 24,
   "metadata": {
    "id": "N_3ApUm6ERr_"
   },
   "outputs": [],
   "source": [
    "x_train, x_test, y_train, y_test = train_test_split(final_input,final_output, test_size=0.33, random_state=42)"
   ]
  },
  {
   "cell_type": "code",
   "execution_count": 25,
   "metadata": {
    "colab": {
     "base_uri": "https://localhost:8080/",
     "height": 1000
    },
    "id": "xtanH9xdE6vu",
    "outputId": "a90b6a29-3ee8-4b0e-eeed-991efd00b04e"
   },
   "outputs": [
    {
     "name": "stdout",
     "output_type": "stream",
     "text": [
      "Epoch 1/120\n",
      "51/51 [==============================] - 6s 66ms/step - loss: 0.0000e+00 - accuracy: 0.1521 - val_loss: 0.0000e+00 - val_accuracy: 0.1691\n",
      "Epoch 2/120\n",
      "51/51 [==============================] - 3s 54ms/step - loss: 0.0000e+00 - accuracy: 0.1521 - val_loss: 0.0000e+00 - val_accuracy: 0.1691\n",
      "Epoch 3/120\n",
      "51/51 [==============================] - 3s 53ms/step - loss: 0.0000e+00 - accuracy: 0.1521 - val_loss: 0.0000e+00 - val_accuracy: 0.1691\n",
      "Epoch 4/120\n",
      "51/51 [==============================] - 3s 53ms/step - loss: 0.0000e+00 - accuracy: 0.1521 - val_loss: 0.0000e+00 - val_accuracy: 0.1691\n",
      "Epoch 5/120\n",
      "51/51 [==============================] - 3s 53ms/step - loss: 0.0000e+00 - accuracy: 0.1521 - val_loss: 0.0000e+00 - val_accuracy: 0.1691\n",
      "Epoch 6/120\n",
      "51/51 [==============================] - 3s 53ms/step - loss: 0.0000e+00 - accuracy: 0.1521 - val_loss: 0.0000e+00 - val_accuracy: 0.1691\n",
      "Epoch 7/120\n",
      "51/51 [==============================] - 3s 52ms/step - loss: 0.0000e+00 - accuracy: 0.1521 - val_loss: 0.0000e+00 - val_accuracy: 0.1691\n",
      "Epoch 8/120\n",
      "51/51 [==============================] - 3s 52ms/step - loss: 0.0000e+00 - accuracy: 0.1521 - val_loss: 0.0000e+00 - val_accuracy: 0.1691\n",
      "Epoch 9/120\n",
      "51/51 [==============================] - 3s 52ms/step - loss: 0.0000e+00 - accuracy: 0.1521 - val_loss: 0.0000e+00 - val_accuracy: 0.1691\n",
      "Epoch 10/120\n",
      "51/51 [==============================] - 3s 54ms/step - loss: 0.0000e+00 - accuracy: 0.1521 - val_loss: 0.0000e+00 - val_accuracy: 0.1691\n",
      "Epoch 11/120\n",
      "51/51 [==============================] - 3s 52ms/step - loss: 0.0000e+00 - accuracy: 0.1521 - val_loss: 0.0000e+00 - val_accuracy: 0.1691\n",
      "Epoch 12/120\n",
      "51/51 [==============================] - 3s 52ms/step - loss: 0.0000e+00 - accuracy: 0.1521 - val_loss: 0.0000e+00 - val_accuracy: 0.1691\n",
      "Epoch 13/120\n",
      "51/51 [==============================] - 3s 52ms/step - loss: 0.0000e+00 - accuracy: 0.1521 - val_loss: 0.0000e+00 - val_accuracy: 0.1691\n",
      "Epoch 14/120\n",
      "51/51 [==============================] - 3s 53ms/step - loss: 0.0000e+00 - accuracy: 0.1521 - val_loss: 0.0000e+00 - val_accuracy: 0.1691\n",
      "Epoch 15/120\n",
      "51/51 [==============================] - 3s 53ms/step - loss: 0.0000e+00 - accuracy: 0.1521 - val_loss: 0.0000e+00 - val_accuracy: 0.1691\n",
      "Epoch 16/120\n",
      "51/51 [==============================] - 3s 65ms/step - loss: 0.0000e+00 - accuracy: 0.1521 - val_loss: 0.0000e+00 - val_accuracy: 0.1691\n",
      "Epoch 17/120\n",
      "51/51 [==============================] - 3s 54ms/step - loss: 0.0000e+00 - accuracy: 0.1521 - val_loss: 0.0000e+00 - val_accuracy: 0.1691\n",
      "Epoch 18/120\n",
      "51/51 [==============================] - 3s 52ms/step - loss: 0.0000e+00 - accuracy: 0.1521 - val_loss: 0.0000e+00 - val_accuracy: 0.1691\n",
      "Epoch 19/120\n",
      "51/51 [==============================] - 3s 54ms/step - loss: 0.0000e+00 - accuracy: 0.1521 - val_loss: 0.0000e+00 - val_accuracy: 0.1691\n",
      "Epoch 20/120\n",
      "51/51 [==============================] - 3s 52ms/step - loss: 0.0000e+00 - accuracy: 0.1521 - val_loss: 0.0000e+00 - val_accuracy: 0.1691\n",
      "Epoch 21/120\n",
      "51/51 [==============================] - 3s 56ms/step - loss: 0.0000e+00 - accuracy: 0.1521 - val_loss: 0.0000e+00 - val_accuracy: 0.1691\n",
      "Epoch 22/120\n",
      "51/51 [==============================] - 3s 53ms/step - loss: 0.0000e+00 - accuracy: 0.1521 - val_loss: 0.0000e+00 - val_accuracy: 0.1691\n",
      "Epoch 23/120\n",
      "51/51 [==============================] - 3s 53ms/step - loss: 0.0000e+00 - accuracy: 0.1521 - val_loss: 0.0000e+00 - val_accuracy: 0.1691\n",
      "Epoch 24/120\n",
      "51/51 [==============================] - 3s 54ms/step - loss: 0.0000e+00 - accuracy: 0.1521 - val_loss: 0.0000e+00 - val_accuracy: 0.1691\n",
      "Epoch 25/120\n",
      "51/51 [==============================] - 3s 54ms/step - loss: 0.0000e+00 - accuracy: 0.1521 - val_loss: 0.0000e+00 - val_accuracy: 0.1691\n",
      "Epoch 26/120\n",
      "51/51 [==============================] - 3s 56ms/step - loss: 0.0000e+00 - accuracy: 0.1521 - val_loss: 0.0000e+00 - val_accuracy: 0.1691\n",
      "Epoch 27/120\n",
      "51/51 [==============================] - 3s 55ms/step - loss: 0.0000e+00 - accuracy: 0.1521 - val_loss: 0.0000e+00 - val_accuracy: 0.1691\n",
      "Epoch 28/120\n",
      "51/51 [==============================] - 3s 54ms/step - loss: 0.0000e+00 - accuracy: 0.1521 - val_loss: 0.0000e+00 - val_accuracy: 0.1691\n",
      "Epoch 29/120\n",
      "51/51 [==============================] - 3s 53ms/step - loss: 0.0000e+00 - accuracy: 0.1521 - val_loss: 0.0000e+00 - val_accuracy: 0.1691\n",
      "Epoch 30/120\n",
      "51/51 [==============================] - 3s 53ms/step - loss: 0.0000e+00 - accuracy: 0.1521 - val_loss: 0.0000e+00 - val_accuracy: 0.1691\n",
      "Epoch 31/120\n",
      "51/51 [==============================] - 3s 54ms/step - loss: 0.0000e+00 - accuracy: 0.1521 - val_loss: 0.0000e+00 - val_accuracy: 0.1691\n",
      "Epoch 32/120\n",
      "51/51 [==============================] - 3s 54ms/step - loss: 0.0000e+00 - accuracy: 0.1521 - val_loss: 0.0000e+00 - val_accuracy: 0.1691\n",
      "Epoch 33/120\n",
      "51/51 [==============================] - 3s 53ms/step - loss: 0.0000e+00 - accuracy: 0.1521 - val_loss: 0.0000e+00 - val_accuracy: 0.1691\n",
      "Epoch 34/120\n",
      "51/51 [==============================] - 3s 53ms/step - loss: 0.0000e+00 - accuracy: 0.1521 - val_loss: 0.0000e+00 - val_accuracy: 0.1691\n",
      "Epoch 35/120\n",
      "51/51 [==============================] - 3s 53ms/step - loss: 0.0000e+00 - accuracy: 0.1521 - val_loss: 0.0000e+00 - val_accuracy: 0.1691\n",
      "Epoch 36/120\n",
      "51/51 [==============================] - 3s 52ms/step - loss: 0.0000e+00 - accuracy: 0.1521 - val_loss: 0.0000e+00 - val_accuracy: 0.1691\n",
      "Epoch 37/120\n",
      "51/51 [==============================] - 3s 53ms/step - loss: 0.0000e+00 - accuracy: 0.1521 - val_loss: 0.0000e+00 - val_accuracy: 0.1691\n",
      "Epoch 38/120\n",
      "51/51 [==============================] - 3s 54ms/step - loss: 0.0000e+00 - accuracy: 0.1521 - val_loss: 0.0000e+00 - val_accuracy: 0.1691\n",
      "Epoch 39/120\n",
      "51/51 [==============================] - 3s 52ms/step - loss: 0.0000e+00 - accuracy: 0.1521 - val_loss: 0.0000e+00 - val_accuracy: 0.1691\n",
      "Epoch 40/120\n",
      "51/51 [==============================] - 3s 64ms/step - loss: 0.0000e+00 - accuracy: 0.1521 - val_loss: 0.0000e+00 - val_accuracy: 0.1691\n",
      "Epoch 41/120\n",
      "51/51 [==============================] - 3s 53ms/step - loss: 0.0000e+00 - accuracy: 0.1521 - val_loss: 0.0000e+00 - val_accuracy: 0.1691\n",
      "Epoch 42/120\n",
      "51/51 [==============================] - 3s 53ms/step - loss: 0.0000e+00 - accuracy: 0.1521 - val_loss: 0.0000e+00 - val_accuracy: 0.1691\n",
      "Epoch 43/120\n",
      "51/51 [==============================] - 4s 73ms/step - loss: 0.0000e+00 - accuracy: 0.1521 - val_loss: 0.0000e+00 - val_accuracy: 0.1691\n",
      "Epoch 44/120\n",
      "51/51 [==============================] - 3s 55ms/step - loss: 0.0000e+00 - accuracy: 0.1521 - val_loss: 0.0000e+00 - val_accuracy: 0.1691\n",
      "Epoch 45/120\n",
      "51/51 [==============================] - 3s 53ms/step - loss: 0.0000e+00 - accuracy: 0.1521 - val_loss: 0.0000e+00 - val_accuracy: 0.1691\n",
      "Epoch 46/120\n",
      "51/51 [==============================] - 3s 53ms/step - loss: 0.0000e+00 - accuracy: 0.1521 - val_loss: 0.0000e+00 - val_accuracy: 0.1691\n",
      "Epoch 47/120\n",
      "51/51 [==============================] - 3s 54ms/step - loss: 0.0000e+00 - accuracy: 0.1521 - val_loss: 0.0000e+00 - val_accuracy: 0.1691\n",
      "Epoch 48/120\n",
      "51/51 [==============================] - 3s 54ms/step - loss: 0.0000e+00 - accuracy: 0.1521 - val_loss: 0.0000e+00 - val_accuracy: 0.1691\n",
      "Epoch 49/120\n",
      "51/51 [==============================] - 3s 53ms/step - loss: 0.0000e+00 - accuracy: 0.1521 - val_loss: 0.0000e+00 - val_accuracy: 0.1691\n",
      "Epoch 50/120\n",
      "51/51 [==============================] - 3s 54ms/step - loss: 0.0000e+00 - accuracy: 0.1521 - val_loss: 0.0000e+00 - val_accuracy: 0.1691\n",
      "Epoch 51/120\n",
      "51/51 [==============================] - 3s 55ms/step - loss: 0.0000e+00 - accuracy: 0.1521 - val_loss: 0.0000e+00 - val_accuracy: 0.1691\n",
      "Epoch 52/120\n",
      "51/51 [==============================] - 3s 55ms/step - loss: 0.0000e+00 - accuracy: 0.1521 - val_loss: 0.0000e+00 - val_accuracy: 0.1691\n",
      "Epoch 53/120\n",
      "51/51 [==============================] - 3s 53ms/step - loss: 0.0000e+00 - accuracy: 0.1521 - val_loss: 0.0000e+00 - val_accuracy: 0.1691\n",
      "Epoch 54/120\n",
      "51/51 [==============================] - 3s 55ms/step - loss: 0.0000e+00 - accuracy: 0.1521 - val_loss: 0.0000e+00 - val_accuracy: 0.1691\n",
      "Epoch 55/120\n",
      "51/51 [==============================] - 3s 53ms/step - loss: 0.0000e+00 - accuracy: 0.1521 - val_loss: 0.0000e+00 - val_accuracy: 0.1691\n",
      "Epoch 56/120\n",
      "51/51 [==============================] - 3s 53ms/step - loss: 0.0000e+00 - accuracy: 0.1521 - val_loss: 0.0000e+00 - val_accuracy: 0.1691\n",
      "Epoch 57/120\n",
      "51/51 [==============================] - 3s 52ms/step - loss: 0.0000e+00 - accuracy: 0.1521 - val_loss: 0.0000e+00 - val_accuracy: 0.1691\n",
      "Epoch 58/120\n",
      "51/51 [==============================] - 3s 53ms/step - loss: 0.0000e+00 - accuracy: 0.1521 - val_loss: 0.0000e+00 - val_accuracy: 0.1691\n",
      "Epoch 59/120\n",
      "51/51 [==============================] - 4s 72ms/step - loss: 0.0000e+00 - accuracy: 0.1521 - val_loss: 0.0000e+00 - val_accuracy: 0.1691\n",
      "Epoch 60/120\n",
      "51/51 [==============================] - 4s 80ms/step - loss: 0.0000e+00 - accuracy: 0.1521 - val_loss: 0.0000e+00 - val_accuracy: 0.1691\n",
      "Epoch 61/120\n",
      "51/51 [==============================] - 5s 97ms/step - loss: 0.0000e+00 - accuracy: 0.1521 - val_loss: 0.0000e+00 - val_accuracy: 0.1691\n",
      "Epoch 62/120\n",
      "51/51 [==============================] - 4s 78ms/step - loss: 0.0000e+00 - accuracy: 0.1521 - val_loss: 0.0000e+00 - val_accuracy: 0.1691\n",
      "Epoch 63/120\n",
      "51/51 [==============================] - 5s 93ms/step - loss: 0.0000e+00 - accuracy: 0.1521 - val_loss: 0.0000e+00 - val_accuracy: 0.1691\n",
      "Epoch 64/120\n",
      "51/51 [==============================] - 5s 96ms/step - loss: 0.0000e+00 - accuracy: 0.1521 - val_loss: 0.0000e+00 - val_accuracy: 0.1691\n",
      "Epoch 65/120\n",
      "51/51 [==============================] - 6s 111ms/step - loss: 0.0000e+00 - accuracy: 0.1521 - val_loss: 0.0000e+00 - val_accuracy: 0.1691\n",
      "Epoch 66/120\n",
      "51/51 [==============================] - 5s 95ms/step - loss: 0.0000e+00 - accuracy: 0.1521 - val_loss: 0.0000e+00 - val_accuracy: 0.1691\n",
      "Epoch 67/120\n",
      "51/51 [==============================] - 5s 108ms/step - loss: 0.0000e+00 - accuracy: 0.1521 - val_loss: 0.0000e+00 - val_accuracy: 0.1691\n",
      "Epoch 68/120\n",
      "51/51 [==============================] - 5s 94ms/step - loss: 0.0000e+00 - accuracy: 0.1521 - val_loss: 0.0000e+00 - val_accuracy: 0.1691\n",
      "Epoch 69/120\n",
      "51/51 [==============================] - 5s 92ms/step - loss: 0.0000e+00 - accuracy: 0.1521 - val_loss: 0.0000e+00 - val_accuracy: 0.1691\n",
      "Epoch 70/120\n",
      "51/51 [==============================] - 5s 89ms/step - loss: 0.0000e+00 - accuracy: 0.1521 - val_loss: 0.0000e+00 - val_accuracy: 0.1691\n",
      "Epoch 71/120\n",
      "51/51 [==============================] - 5s 99ms/step - loss: 0.0000e+00 - accuracy: 0.1521 - val_loss: 0.0000e+00 - val_accuracy: 0.1691\n",
      "Epoch 72/120\n",
      "51/51 [==============================] - 5s 92ms/step - loss: 0.0000e+00 - accuracy: 0.1521 - val_loss: 0.0000e+00 - val_accuracy: 0.1691\n",
      "Epoch 73/120\n",
      "51/51 [==============================] - 4s 80ms/step - loss: 0.0000e+00 - accuracy: 0.1521 - val_loss: 0.0000e+00 - val_accuracy: 0.1691\n",
      "Epoch 74/120\n",
      "51/51 [==============================] - 4s 77ms/step - loss: 0.0000e+00 - accuracy: 0.1521 - val_loss: 0.0000e+00 - val_accuracy: 0.1691\n",
      "Epoch 75/120\n",
      "51/51 [==============================] - 5s 98ms/step - loss: 0.0000e+00 - accuracy: 0.1521 - val_loss: 0.0000e+00 - val_accuracy: 0.1691\n",
      "Epoch 76/120\n",
      "51/51 [==============================] - 5s 103ms/step - loss: 0.0000e+00 - accuracy: 0.1521 - val_loss: 0.0000e+00 - val_accuracy: 0.1691\n",
      "Epoch 77/120\n",
      "51/51 [==============================] - 4s 88ms/step - loss: 0.0000e+00 - accuracy: 0.1521 - val_loss: 0.0000e+00 - val_accuracy: 0.1691\n",
      "Epoch 78/120\n",
      "51/51 [==============================] - 6s 115ms/step - loss: 0.0000e+00 - accuracy: 0.1521 - val_loss: 0.0000e+00 - val_accuracy: 0.1691\n",
      "Epoch 79/120\n",
      "51/51 [==============================] - 5s 100ms/step - loss: 0.0000e+00 - accuracy: 0.1521 - val_loss: 0.0000e+00 - val_accuracy: 0.1691\n",
      "Epoch 80/120\n",
      "51/51 [==============================] - 5s 92ms/step - loss: 0.0000e+00 - accuracy: 0.1521 - val_loss: 0.0000e+00 - val_accuracy: 0.1691\n",
      "Epoch 81/120\n",
      "51/51 [==============================] - 5s 94ms/step - loss: 0.0000e+00 - accuracy: 0.1521 - val_loss: 0.0000e+00 - val_accuracy: 0.1691\n",
      "Epoch 82/120\n",
      "51/51 [==============================] - 5s 103ms/step - loss: 0.0000e+00 - accuracy: 0.1521 - val_loss: 0.0000e+00 - val_accuracy: 0.1691\n",
      "Epoch 83/120\n",
      "51/51 [==============================] - 4s 78ms/step - loss: 0.0000e+00 - accuracy: 0.1521 - val_loss: 0.0000e+00 - val_accuracy: 0.1691\n",
      "Epoch 84/120\n",
      "51/51 [==============================] - 4s 74ms/step - loss: 0.0000e+00 - accuracy: 0.1521 - val_loss: 0.0000e+00 - val_accuracy: 0.1691\n",
      "Epoch 85/120\n",
      "51/51 [==============================] - 4s 82ms/step - loss: 0.0000e+00 - accuracy: 0.1521 - val_loss: 0.0000e+00 - val_accuracy: 0.1691\n",
      "Epoch 86/120\n",
      "51/51 [==============================] - 5s 90ms/step - loss: 0.0000e+00 - accuracy: 0.1521 - val_loss: 0.0000e+00 - val_accuracy: 0.1691\n",
      "Epoch 87/120\n",
      "51/51 [==============================] - 4s 83ms/step - loss: 0.0000e+00 - accuracy: 0.1521 - val_loss: 0.0000e+00 - val_accuracy: 0.1691\n",
      "Epoch 88/120\n",
      "51/51 [==============================] - 4s 82ms/step - loss: 0.0000e+00 - accuracy: 0.1521 - val_loss: 0.0000e+00 - val_accuracy: 0.1691\n",
      "Epoch 89/120\n",
      "51/51 [==============================] - 4s 81ms/step - loss: 0.0000e+00 - accuracy: 0.1521 - val_loss: 0.0000e+00 - val_accuracy: 0.1691\n",
      "Epoch 90/120\n",
      "51/51 [==============================] - 4s 82ms/step - loss: 0.0000e+00 - accuracy: 0.1521 - val_loss: 0.0000e+00 - val_accuracy: 0.1691\n",
      "Epoch 91/120\n",
      "51/51 [==============================] - 4s 73ms/step - loss: 0.0000e+00 - accuracy: 0.1521 - val_loss: 0.0000e+00 - val_accuracy: 0.1691\n",
      "Epoch 92/120\n",
      "51/51 [==============================] - 4s 77ms/step - loss: 0.0000e+00 - accuracy: 0.1521 - val_loss: 0.0000e+00 - val_accuracy: 0.1691\n",
      "Epoch 93/120\n",
      "51/51 [==============================] - 4s 78ms/step - loss: 0.0000e+00 - accuracy: 0.1521 - val_loss: 0.0000e+00 - val_accuracy: 0.1691\n",
      "Epoch 94/120\n",
      "51/51 [==============================] - 4s 78ms/step - loss: 0.0000e+00 - accuracy: 0.1521 - val_loss: 0.0000e+00 - val_accuracy: 0.1691\n",
      "Epoch 95/120\n",
      "51/51 [==============================] - 4s 79ms/step - loss: 0.0000e+00 - accuracy: 0.1521 - val_loss: 0.0000e+00 - val_accuracy: 0.1691\n",
      "Epoch 96/120\n",
      "51/51 [==============================] - 4s 73ms/step - loss: 0.0000e+00 - accuracy: 0.1521 - val_loss: 0.0000e+00 - val_accuracy: 0.1691\n",
      "Epoch 97/120\n",
      "51/51 [==============================] - 4s 74ms/step - loss: 0.0000e+00 - accuracy: 0.1521 - val_loss: 0.0000e+00 - val_accuracy: 0.1691\n",
      "Epoch 98/120\n",
      "51/51 [==============================] - 4s 75ms/step - loss: 0.0000e+00 - accuracy: 0.1521 - val_loss: 0.0000e+00 - val_accuracy: 0.1691\n",
      "Epoch 99/120\n",
      "51/51 [==============================] - 4s 73ms/step - loss: 0.0000e+00 - accuracy: 0.1521 - val_loss: 0.0000e+00 - val_accuracy: 0.1691\n",
      "Epoch 100/120\n",
      "51/51 [==============================] - 4s 76ms/step - loss: 0.0000e+00 - accuracy: 0.1521 - val_loss: 0.0000e+00 - val_accuracy: 0.1691\n",
      "Epoch 101/120\n",
      "51/51 [==============================] - 4s 87ms/step - loss: 0.0000e+00 - accuracy: 0.1521 - val_loss: 0.0000e+00 - val_accuracy: 0.1691\n",
      "Epoch 102/120\n",
      "51/51 [==============================] - 4s 74ms/step - loss: 0.0000e+00 - accuracy: 0.1521 - val_loss: 0.0000e+00 - val_accuracy: 0.1691\n",
      "Epoch 103/120\n",
      "51/51 [==============================] - 4s 70ms/step - loss: 0.0000e+00 - accuracy: 0.1521 - val_loss: 0.0000e+00 - val_accuracy: 0.1691\n",
      "Epoch 104/120\n",
      "51/51 [==============================] - 4s 70ms/step - loss: 0.0000e+00 - accuracy: 0.1521 - val_loss: 0.0000e+00 - val_accuracy: 0.1691\n",
      "Epoch 105/120\n",
      "51/51 [==============================] - 4s 73ms/step - loss: 0.0000e+00 - accuracy: 0.1521 - val_loss: 0.0000e+00 - val_accuracy: 0.1691\n",
      "Epoch 106/120\n",
      "51/51 [==============================] - 4s 72ms/step - loss: 0.0000e+00 - accuracy: 0.1521 - val_loss: 0.0000e+00 - val_accuracy: 0.1691\n",
      "Epoch 107/120\n",
      "51/51 [==============================] - 4s 69ms/step - loss: 0.0000e+00 - accuracy: 0.1521 - val_loss: 0.0000e+00 - val_accuracy: 0.1691\n",
      "Epoch 108/120\n",
      "51/51 [==============================] - 3s 68ms/step - loss: 0.0000e+00 - accuracy: 0.1521 - val_loss: 0.0000e+00 - val_accuracy: 0.1691\n",
      "Epoch 109/120\n",
      "51/51 [==============================] - 3s 67ms/step - loss: 0.0000e+00 - accuracy: 0.1521 - val_loss: 0.0000e+00 - val_accuracy: 0.1691\n",
      "Epoch 110/120\n",
      "51/51 [==============================] - 3s 68ms/step - loss: 0.0000e+00 - accuracy: 0.1521 - val_loss: 0.0000e+00 - val_accuracy: 0.1691\n",
      "Epoch 111/120\n",
      "51/51 [==============================] - 3s 68ms/step - loss: 0.0000e+00 - accuracy: 0.1521 - val_loss: 0.0000e+00 - val_accuracy: 0.1691\n",
      "Epoch 112/120\n",
      "51/51 [==============================] - 4s 70ms/step - loss: 0.0000e+00 - accuracy: 0.1521 - val_loss: 0.0000e+00 - val_accuracy: 0.1691\n",
      "Epoch 113/120\n",
      "51/51 [==============================] - 3s 67ms/step - loss: 0.0000e+00 - accuracy: 0.1521 - val_loss: 0.0000e+00 - val_accuracy: 0.1691\n",
      "Epoch 114/120\n",
      "51/51 [==============================] - 3s 66ms/step - loss: 0.0000e+00 - accuracy: 0.1521 - val_loss: 0.0000e+00 - val_accuracy: 0.1691\n",
      "Epoch 115/120\n",
      "51/51 [==============================] - 3s 67ms/step - loss: 0.0000e+00 - accuracy: 0.1521 - val_loss: 0.0000e+00 - val_accuracy: 0.1691\n",
      "Epoch 116/120\n",
      "51/51 [==============================] - 3s 65ms/step - loss: 0.0000e+00 - accuracy: 0.1521 - val_loss: 0.0000e+00 - val_accuracy: 0.1691\n",
      "Epoch 117/120\n",
      "51/51 [==============================] - 3s 66ms/step - loss: 0.0000e+00 - accuracy: 0.1521 - val_loss: 0.0000e+00 - val_accuracy: 0.1691\n",
      "Epoch 118/120\n",
      "51/51 [==============================] - 3s 65ms/step - loss: 0.0000e+00 - accuracy: 0.1521 - val_loss: 0.0000e+00 - val_accuracy: 0.1691\n",
      "Epoch 119/120\n",
      "51/51 [==============================] - 3s 65ms/step - loss: 0.0000e+00 - accuracy: 0.1521 - val_loss: 0.0000e+00 - val_accuracy: 0.1691\n",
      "Epoch 120/120\n",
      "51/51 [==============================] - 3s 64ms/step - loss: 0.0000e+00 - accuracy: 0.1521 - val_loss: 0.0000e+00 - val_accuracy: 0.1691\n"
     ]
    },
    {
     "ename": "AttributeError",
     "evalue": "ignored",
     "output_type": "error",
     "traceback": [
      "\u001b[0;31m---------------------------------------------------------------------------\u001b[0m",
      "\u001b[0;31mAttributeError\u001b[0m                            Traceback (most recent call last)",
      "\u001b[0;32m<ipython-input-25-67aaf4051535>\u001b[0m in \u001b[0;36m<module>\u001b[0;34m()\u001b[0m\n\u001b[1;32m      1\u001b[0m \u001b[0mmodel\u001b[0m\u001b[0;34m.\u001b[0m\u001b[0mfit\u001b[0m\u001b[0;34m(\u001b[0m\u001b[0mx_train\u001b[0m\u001b[0;34m,\u001b[0m\u001b[0my_train\u001b[0m\u001b[0;34m,\u001b[0m\u001b[0mbatch_size\u001b[0m\u001b[0;34m=\u001b[0m\u001b[0;36m50\u001b[0m\u001b[0;34m,\u001b[0m\u001b[0mepochs\u001b[0m\u001b[0;34m=\u001b[0m\u001b[0;36m120\u001b[0m\u001b[0;34m,\u001b[0m\u001b[0mvalidation_data\u001b[0m\u001b[0;34m=\u001b[0m\u001b[0;34m(\u001b[0m\u001b[0mx_test\u001b[0m\u001b[0;34m,\u001b[0m\u001b[0my_test\u001b[0m\u001b[0;34m)\u001b[0m\u001b[0;34m)\u001b[0m\u001b[0;34m\u001b[0m\u001b[0;34m\u001b[0m\u001b[0m\n\u001b[1;32m      2\u001b[0m \u001b[0;34m\u001b[0m\u001b[0m\n\u001b[0;32m----> 3\u001b[0;31m \u001b[0my_pred\u001b[0m \u001b[0;34m=\u001b[0m \u001b[0mmodel\u001b[0m\u001b[0;34m.\u001b[0m\u001b[0mpredict_classes\u001b[0m\u001b[0;34m(\u001b[0m\u001b[0mx_test\u001b[0m\u001b[0;34m)\u001b[0m\u001b[0;34m\u001b[0m\u001b[0;34m\u001b[0m\u001b[0m\n\u001b[0m",
      "\u001b[0;31mAttributeError\u001b[0m: 'Sequential' object has no attribute 'predict_classes'"
     ]
    }
   ],
   "source": [
    "model.fit(x_train,y_train,batch_size=50,epochs=120,validation_data=(x_test,y_test))\n",
    "\n",
    "y_pred = model.predict_classes(x_test)"
   ]
  },
  {
   "cell_type": "code",
   "execution_count": 27,
   "metadata": {
    "id": "XCB5RVCpINYM"
   },
   "outputs": [],
   "source": [
    "y_pred = model.predict(x_test)"
   ]
  },
  {
   "cell_type": "code",
   "execution_count": 28,
   "metadata": {
    "colab": {
     "base_uri": "https://localhost:8080/"
    },
    "id": "DuUj43u5Fwhn",
    "outputId": "7a3ec7ca-7794-4a9a-fec7-21e116efc3e7"
   },
   "outputs": [
    {
     "name": "stdout",
     "output_type": "stream",
     "text": [
      "accuracy is = 16.905901116427433 %\n"
     ]
    }
   ],
   "source": [
    "val = metrics.accuracy_score(y_test,y_pred)\n",
    "print('accuracy is =',str(val*100)+\" %\")"
   ]
  },
  {
   "cell_type": "code",
   "execution_count": null,
   "metadata": {
    "id": "nLbM4TfoIHJH"
   },
   "outputs": [],
   "source": []
  }
 ],
 "metadata": {
  "colab": {
   "name": "Tweet_Analysis.ipynb",
   "provenance": []
  },
  "kernelspec": {
   "display_name": "Python 3",
   "language": "python",
   "name": "python3"
  },
  "language_info": {
   "codemirror_mode": {
    "name": "ipython",
    "version": 3
   },
   "file_extension": ".py",
   "mimetype": "text/x-python",
   "name": "python",
   "nbconvert_exporter": "python",
   "pygments_lexer": "ipython3",
   "version": "3.8.8"
  }
 },
 "nbformat": 4,
 "nbformat_minor": 1
}
